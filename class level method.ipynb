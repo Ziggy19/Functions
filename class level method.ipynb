{
 "cells": [
  {
   "cell_type": "markdown",
   "id": "962edb98",
   "metadata": {},
   "source": [
    "# Class level method"
   ]
  },
  {
   "cell_type": "code",
   "execution_count": 13,
   "id": "27f3bf7d",
   "metadata": {},
   "outputs": [
    {
     "name": "stdout",
     "output_type": "stream",
     "text": [
      "Class level method\n",
      "Object level method\n",
      "Class level method\n"
     ]
    }
   ],
   "source": [
    "class A:\n",
    "    def m1(self):\n",
    "        print(\"Object level method\")\n",
    "    @classmethod\n",
    "    def m2(cls):\n",
    "        print(\"Class level method\")\n",
    "def main():\n",
    "    A.m2()\n",
    "    obj1=A()\n",
    "    obj1.m1()\n",
    "    obj1.m2()\n",
    "main()"
   ]
  },
  {
   "cell_type": "code",
   "execution_count": 22,
   "id": "f2765651",
   "metadata": {},
   "outputs": [
    {
     "name": "stdout",
     "output_type": "stream",
     "text": [
      "200\n",
      "100\n",
      "200\n"
     ]
    }
   ],
   "source": [
    "\n",
    "class A:\n",
    "    y=200\n",
    "    def __init__(self):\n",
    "        self.x=100\n",
    "    def m1(self):\n",
    "        print(self.x)\n",
    "    @classmethod\n",
    "    def m2(cls):\n",
    "        print(cls.y)\n",
    "def main():\n",
    "    A.m2()\n",
    "    obj1=A()\n",
    "    obj1.m1()\n",
    "    obj1.m2()\n",
    "main()"
   ]
  },
  {
   "cell_type": "code",
   "execution_count": null,
   "id": "f7ad678f",
   "metadata": {},
   "outputs": [],
   "source": []
  }
 ],
 "metadata": {
  "kernelspec": {
   "display_name": "Python 3 (ipykernel)",
   "language": "python",
   "name": "python3"
  },
  "language_info": {
   "codemirror_mode": {
    "name": "ipython",
    "version": 3
   },
   "file_extension": ".py",
   "mimetype": "text/x-python",
   "name": "python",
   "nbconvert_exporter": "python",
   "pygments_lexer": "ipython3",
   "version": "3.9.7"
  }
 },
 "nbformat": 4,
 "nbformat_minor": 5
}
