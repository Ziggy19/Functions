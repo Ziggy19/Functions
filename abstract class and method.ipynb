{
 "cells": [
  {
   "cell_type": "markdown",
   "id": "e4aef930",
   "metadata": {},
   "source": [
    "# Abstract Class and Method"
   ]
  },
  {
   "cell_type": "code",
   "execution_count": 6,
   "id": "b5ba89ce",
   "metadata": {},
   "outputs": [
    {
     "name": "stdout",
     "output_type": "stream",
     "text": [
      "Enter Dim16\n",
      "Enter Dim27\n",
      "Enter Dim19\n",
      "Enter Dim28\n",
      "Area of triangle is 21.0\n",
      "Area of rectangle is 72.0\n"
     ]
    }
   ],
   "source": [
    "import abc\n",
    "class shape(abc.ABC):\n",
    "    def __init__(self):\n",
    "        self.dim1=None\n",
    "        self.dim2=None\n",
    "    def read_dim(self):\n",
    "        self.dim1=float(input(\"Enter Dim1\"))\n",
    "        self.dim2=float(input(\"Enter Dim2\"))\n",
    "    @abc.abstractmethod\n",
    "    def find_area(self):\n",
    "        pass\n",
    "class Triangle(shape):\n",
    "    def __init__(self):\n",
    "        super().__init__()\n",
    "    def find_area(self): # overriding method\n",
    "        return self.dim1*self.dim2*0.5\n",
    "class Rectangle(shape):\n",
    "    def __init__(self):\n",
    "        super().__init__()\n",
    "    def find_area(self): # overridng method\n",
    "        return self.dim1*self.dim2\n",
    "def main():\n",
    "    t1=Triangle()\n",
    "    t1.read_dim()\n",
    "    area1=t1.find_area()\n",
    "    r1=Rectangle()\n",
    "    r1.read_dim()\n",
    "    area2=r1.find_area()\n",
    "    print(f'Area of triangle is {area1}')\n",
    "    print(f'Area of rectangle is {area2}')\n",
    "main()"
   ]
  },
  {
   "cell_type": "code",
   "execution_count": null,
   "id": "64e1d9c3",
   "metadata": {},
   "outputs": [],
   "source": []
  }
 ],
 "metadata": {
  "kernelspec": {
   "display_name": "Python 3 (ipykernel)",
   "language": "python",
   "name": "python3"
  },
  "language_info": {
   "codemirror_mode": {
    "name": "ipython",
    "version": 3
   },
   "file_extension": ".py",
   "mimetype": "text/x-python",
   "name": "python",
   "nbconvert_exporter": "python",
   "pygments_lexer": "ipython3",
   "version": "3.9.7"
  }
 },
 "nbformat": 4,
 "nbformat_minor": 5
}
