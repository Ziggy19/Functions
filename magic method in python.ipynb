{
 "cells": [
  {
   "cell_type": "markdown",
   "id": "d65f1fab",
   "metadata": {},
   "source": [
    "# Magic methods in Python are the special methods that start and end with the double underscores. They are also called dunder methods. Magic methods are not meant to be invoked directly by you, but the invocation happens internally from the class on a certain action.\n",
    "1. __init__(self)\n",
    "2. __del__(self)\n",
    "3. __str__(self)\n",
    "4. __eq__(self,other)\n",
    "5. __hash__(self)"
   ]
  },
  {
   "cell_type": "markdown",
   "id": "9a2e9696",
   "metadata": {},
   "source": [
    "# __str__(self) method\n",
    "This method is called automatically when object is converted to string type using str() function. \n",
    "Str() function called __str__ method of object."
   ]
  },
  {
   "cell_type": "code",
   "execution_count": 14,
   "id": "aa769dac",
   "metadata": {},
   "outputs": [
    {
     "name": "stdout",
     "output_type": "stream",
     "text": [
      "10 1.5\n"
     ]
    }
   ],
   "source": [
    "A=10\n",
    "B=str(A)#🡪 A.__str__()\n",
    "F1=1.5\n",
    "F2=str(F1)# 🡪 F1.__str__()\n",
    "print(A,F1)"
   ]
  },
  {
   "cell_type": "markdown",
   "id": "6f1c4596",
   "metadata": {},
   "source": [
    "# __eq__(self,other)\n",
    "This method does not have any implementation in base class or super class or parent class.\n",
    "This method is override into to compare two objects. \n",
    "This method is invoked automatically when two objects are compared using == operator."
   ]
  },
  {
   "cell_type": "code",
   "execution_count": null,
   "id": "b5ba89ce",
   "metadata": {},
   "outputs": [],
   "source": []
  }
 ],
 "metadata": {
  "kernelspec": {
   "display_name": "Python 3 (ipykernel)",
   "language": "python",
   "name": "python3"
  },
  "language_info": {
   "codemirror_mode": {
    "name": "ipython",
    "version": 3
   },
   "file_extension": ".py",
   "mimetype": "text/x-python",
   "name": "python",
   "nbconvert_exporter": "python",
   "pygments_lexer": "ipython3",
   "version": "3.9.7"
  }
 },
 "nbformat": 4,
 "nbformat_minor": 5
}
