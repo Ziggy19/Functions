{
 "cells": [
  {
   "cell_type": "markdown",
   "id": "e2555ba5",
   "metadata": {},
   "source": [
    "# Single Level Inheritance"
   ]
  },
  {
   "cell_type": "code",
   "execution_count": 10,
   "id": "252649a1",
   "metadata": {},
   "outputs": [
    {
     "name": "stdout",
     "output_type": "stream",
     "text": [
      "101\n",
      "naresh\n",
      "Manager\n",
      "5000\n"
     ]
    }
   ],
   "source": [
    "class Person:\n",
    "    def __init__(self):\n",
    "        self.__id=None\n",
    "        self.__name=None\n",
    "    def set_id(self,i):\n",
    "        self.__id=i\n",
    "    def set_name(self,n):\n",
    "        self.__name=n\n",
    "    def get_id(self):\n",
    "        return self.__id\n",
    "    def get_name(self):\n",
    "        return self.__name\n",
    "class Employee(Person):\n",
    "    def __init__(self):\n",
    "        super().__init__()\n",
    "        self.__job=None\n",
    "        self.__sal=None\n",
    "    def set_job(self,j):\n",
    "        self.__job=j\n",
    "    def get_job(self):\n",
    "        return self.__job\n",
    "    def set_sal(self,s):\n",
    "        self.__sal=s\n",
    "    def get_sal(self):\n",
    "        return self.__sal\n",
    "def main():\n",
    "    emp1=Employee()\n",
    "    emp1.set_id(101)\n",
    "    emp1.set_name(\"naresh\")\n",
    "    emp1.set_job(\"Manager\")\n",
    "    emp1.set_sal(5000)\n",
    "    print(f'{emp1.get_id()}\\n{emp1.get_name()}\\n{emp1.get_job()}\\n{emp1.get_sal()}')\n",
    "main()"
   ]
  },
  {
   "cell_type": "code",
   "execution_count": null,
   "id": "4d961b79",
   "metadata": {},
   "outputs": [],
   "source": []
  }
 ],
 "metadata": {
  "kernelspec": {
   "display_name": "Python 3 (ipykernel)",
   "language": "python",
   "name": "python3"
  },
  "language_info": {
   "codemirror_mode": {
    "name": "ipython",
    "version": 3
   },
   "file_extension": ".py",
   "mimetype": "text/x-python",
   "name": "python",
   "nbconvert_exporter": "python",
   "pygments_lexer": "ipython3",
   "version": "3.9.7"
  }
 },
 "nbformat": 4,
 "nbformat_minor": 5
}
