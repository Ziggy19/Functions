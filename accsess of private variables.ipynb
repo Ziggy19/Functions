{
 "cells": [
  {
   "cell_type": "markdown",
   "id": "962edb98",
   "metadata": {},
   "source": [
    "# Access Specifiers"
   ]
  },
  {
   "cell_type": "code",
   "execution_count": 4,
   "id": "4c34b14b",
   "metadata": {},
   "outputs": [
    {
     "name": "stdout",
     "output_type": "stream",
     "text": [
      "public method\n"
     ]
    }
   ],
   "source": [
    "class A:\n",
    "    def __m1(self):\n",
    "        print(\"private method\")\n",
    "    def m2(self):\n",
    "        print(\"public method\")\n",
    "def main():\n",
    "    obj1=A()\n",
    "   # obj.__m1() #error can not access privete method \n",
    "    obj1.m2()\n",
    "main()"
   ]
  },
  {
   "cell_type": "code",
   "execution_count": 5,
   "id": "c23c6c8e",
   "metadata": {},
   "outputs": [
    {
     "name": "stdout",
     "output_type": "stream",
     "text": [
      "Name:  Ziggy , Run: 100\n",
      "Name:  Monu , Run: 150\n"
     ]
    }
   ],
   "source": [
    "# how we can access variables of private methods\n",
    "\n",
    "class player:\n",
    "    def __init__(self,n,r):\n",
    "        self.__name=n\n",
    "        self.__run=r\n",
    "\n",
    "    def show_player(self):\n",
    "        print(f\"Name:  {self.__name} , Run: {self.__run}\")\n",
    "def main():\n",
    "    p1=player(\"Ziggy\", 100)\n",
    "    p2=player(\"Monu\", 150)\n",
    "    p1.show_player()\n",
    "    p2.show_player()\n",
    "\n",
    "main()    "
   ]
  },
  {
   "cell_type": "code",
   "execution_count": null,
   "id": "74f3664d",
   "metadata": {},
   "outputs": [],
   "source": []
  }
 ],
 "metadata": {
  "kernelspec": {
   "display_name": "Python 3 (ipykernel)",
   "language": "python",
   "name": "python3"
  },
  "language_info": {
   "codemirror_mode": {
    "name": "ipython",
    "version": 3
   },
   "file_extension": ".py",
   "mimetype": "text/x-python",
   "name": "python",
   "nbconvert_exporter": "python",
   "pygments_lexer": "ipython3",
   "version": "3.9.7"
  }
 },
 "nbformat": 4,
 "nbformat_minor": 5
}
