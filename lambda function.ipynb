{
 "cells": [
  {
   "cell_type": "markdown",
   "id": "cd091f9f",
   "metadata": {},
   "source": [
    "# lambda Function"
   ]
  },
  {
   "cell_type": "code",
   "execution_count": 12,
   "id": "1bc2de6e",
   "metadata": {},
   "outputs": [
    {
     "name": "stdout",
     "output_type": "stream",
     "text": [
      "Hello ziggy\n"
     ]
    }
   ],
   "source": [
    "def lamb():\n",
    "    a=lambda: print(\"Hello ziggy\")\n",
    "    a()\n",
    "lamb()    "
   ]
  },
  {
   "cell_type": "code",
   "execution_count": 13,
   "id": "71513f42",
   "metadata": {},
   "outputs": [
    {
     "name": "stdout",
     "output_type": "stream",
     "text": [
      "130 10 4012 1.1285714285714286\n"
     ]
    }
   ],
   "source": [
    "def cal():\n",
    "    add=lambda x,y:x+y\n",
    "    sub=lambda x,y:x-y\n",
    "    mul=lambda x,y:x*y\n",
    "    div=lambda x,y:x/y\n",
    "    r1=add(60,70)\n",
    "    r2=sub(50,40)\n",
    "    r3=mul(68,59)\n",
    "    r4=div(79,70)\n",
    "    print(r1,r2,r3,r4)\n",
    "cal()\n"
   ]
  },
  {
   "cell_type": "code",
   "execution_count": 16,
   "id": "c196e7fc",
   "metadata": {},
   "outputs": [
    {
     "name": "stdout",
     "output_type": "stream",
     "text": [
      "15\n"
     ]
    }
   ],
   "source": [
    "x = lambda a :a + 10\n",
    "print(x(5))"
   ]
  },
  {
   "cell_type": "code",
   "execution_count": 18,
   "id": "ea1abc86",
   "metadata": {},
   "outputs": [
    {
     "data": {
      "text/plain": [
       "15"
      ]
     },
     "execution_count": 18,
     "metadata": {},
     "output_type": "execute_result"
    }
   ],
   "source": [
    "def a(a):\n",
    "    return a+10\n",
    "a(5)"
   ]
  },
  {
   "cell_type": "code",
   "execution_count": 19,
   "id": "551ccdca",
   "metadata": {},
   "outputs": [
    {
     "name": "stdout",
     "output_type": "stream",
     "text": [
      "15\n"
     ]
    }
   ],
   "source": [
    "x=lambda a: a+10\n",
    "print(x(5))"
   ]
  },
  {
   "cell_type": "code",
   "execution_count": 20,
   "id": "7e6d3594",
   "metadata": {},
   "outputs": [
    {
     "name": "stdout",
     "output_type": "stream",
     "text": [
      "15\n"
     ]
    }
   ],
   "source": [
    "def ad(n):\n",
    "    a=lambda x:x+n\n",
    "    p=print(a(10))\n",
    "ad(5)"
   ]
  },
  {
   "cell_type": "code",
   "execution_count": null,
   "id": "add67f19",
   "metadata": {},
   "outputs": [],
   "source": []
  }
 ],
 "metadata": {
  "kernelspec": {
   "display_name": "Python 3 (ipykernel)",
   "language": "python",
   "name": "python3"
  },
  "language_info": {
   "codemirror_mode": {
    "name": "ipython",
    "version": 3
   },
   "file_extension": ".py",
   "mimetype": "text/x-python",
   "name": "python",
   "nbconvert_exporter": "python",
   "pygments_lexer": "ipython3",
   "version": "3.9.7"
  }
 },
 "nbformat": 4,
 "nbformat_minor": 5
}
