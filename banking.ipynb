{
 "cells": [
  {
   "cell_type": "markdown",
   "id": "962edb98",
   "metadata": {},
   "source": [
    "# Banking"
   ]
  },
  {
   "cell_type": "code",
   "execution_count": 8,
   "id": "f40be2d2",
   "metadata": {},
   "outputs": [
    {
     "name": "stdout",
     "output_type": "stream",
     "text": [
      "101,naresh,50000\n",
      "101,naresh,52000\n",
      "101,naresh,47000\n"
     ]
    }
   ],
   "source": [
    "class Account:\n",
    "    def __init__(self,a,n,b):\n",
    "        self.__accno=a\n",
    "        self.__cname=n\n",
    "        self.__balance=b\n",
    "    def deposit(self,t):\n",
    "        self.__balance=self.__balance+t\n",
    "    def withdraw(self,t):\n",
    "        if self.__balance>t:\n",
    "            self.__balance-=t\n",
    "        else:\n",
    "            print(\"insuff balance\")\n",
    "    def print_account(self):\n",
    "         print(f'{self.__accno},{self.__cname},{self.__balance}')\n",
    "def main():\n",
    "    acc1=Account(101,\"naresh\",50000)\n",
    "    acc1.print_account()\n",
    "    acc1.deposit(2000)\n",
    "    acc1.print_account()\n",
    "    acc1.withdraw(5000)\n",
    "    acc1.print_account()\n",
    "main()"
   ]
  },
  {
   "cell_type": "code",
   "execution_count": null,
   "id": "195e3483",
   "metadata": {},
   "outputs": [],
   "source": []
  }
 ],
 "metadata": {
  "kernelspec": {
   "display_name": "Python 3 (ipykernel)",
   "language": "python",
   "name": "python3"
  },
  "language_info": {
   "codemirror_mode": {
    "name": "ipython",
    "version": 3
   },
   "file_extension": ".py",
   "mimetype": "text/x-python",
   "name": "python",
   "nbconvert_exporter": "python",
   "pygments_lexer": "ipython3",
   "version": "3.9.7"
  }
 },
 "nbformat": 4,
 "nbformat_minor": 5
}
