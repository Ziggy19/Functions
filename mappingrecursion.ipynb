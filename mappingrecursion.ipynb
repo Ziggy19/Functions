{
 "cells": [
  {
   "cell_type": "markdown",
   "id": "94d84dc1",
   "metadata": {},
   "source": [
    "# Mapping"
   ]
  },
  {
   "cell_type": "code",
   "execution_count": 28,
   "id": "165f282d",
   "metadata": {},
   "outputs": [
    {
     "name": "stdout",
     "output_type": "stream",
     "text": [
      "['10', '20', '30', '40', '50']\n",
      "10 20 30 40 50\n"
     ]
    }
   ],
   "source": [
    "def main(): \n",
    "    str1=\"10,20,30,40,50\" \n",
    "    l=str1.split(\",\")\n",
    "    print(l) \n",
    "    a,b,c,d,e=list(map(int,l)) \n",
    "    print(a,b,c,d,e) \n",
    "main()"
   ]
  },
  {
   "cell_type": "code",
   "execution_count": 35,
   "id": "5de47010",
   "metadata": {},
   "outputs": [
    {
     "name": "stdout",
     "output_type": "stream",
     "text": [
      "5\n",
      "4\n",
      "3\n",
      "2\n",
      "1\n"
     ]
    }
   ],
   "source": [
    "#Recursion\n",
    "\n",
    "def print_numbers(n):\n",
    "    if n>0:\n",
    "        print(n)\n",
    "        print_numbers(n-1) # recursive call\n",
    "def main():\n",
    "    print_numbers(5)\n",
    "main()"
   ]
  },
  {
   "cell_type": "code",
   "execution_count": null,
   "id": "bb76e21e",
   "metadata": {},
   "outputs": [],
   "source": []
  }
 ],
 "metadata": {
  "kernelspec": {
   "display_name": "Python 3 (ipykernel)",
   "language": "python",
   "name": "python3"
  },
  "language_info": {
   "codemirror_mode": {
    "name": "ipython",
    "version": 3
   },
   "file_extension": ".py",
   "mimetype": "text/x-python",
   "name": "python",
   "nbconvert_exporter": "python",
   "pygments_lexer": "ipython3",
   "version": "3.9.7"
  }
 },
 "nbformat": 4,
 "nbformat_minor": 5
}
