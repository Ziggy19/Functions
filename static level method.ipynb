{
 "cells": [
  {
   "cell_type": "markdown",
   "id": "962edb98",
   "metadata": {},
   "source": [
    "# Statics level method"
   ]
  },
  {
   "cell_type": "code",
   "execution_count": 23,
   "id": "358fbf26",
   "metadata": {},
   "outputs": [
    {
     "name": "stdout",
     "output_type": "stream",
     "text": [
      "Static method\n",
      "Instance method or object level method\n",
      "Class method\n"
     ]
    }
   ],
   "source": [
    "class A:\n",
    "    @staticmethod\n",
    "    def m1():\n",
    "        print(\"Static method\")\n",
    "    def m2(self):\n",
    "        print(\"Instance method or object level method\")\n",
    "    @classmethod\n",
    "    def m3(cls):\n",
    "        print(\"Class method\")\n",
    "def main():\n",
    "    A.m1()\n",
    "    obj1=A()\n",
    "    obj1.m2()\n",
    "    A.m3()\n",
    "main()"
   ]
  },
  {
   "cell_type": "code",
   "execution_count": 25,
   "id": "630876ef",
   "metadata": {},
   "outputs": [
    {
     "name": "stdout",
     "output_type": "stream",
     "text": [
      "25 24 True True\n"
     ]
    }
   ],
   "source": [
    "class Math:\n",
    "    @staticmethod\n",
    "    def power(num,p):\n",
    "        return num**p\n",
    "    @staticmethod\n",
    "    def factorial(num):\n",
    "        fact=1\n",
    "        for i in range(1,num+1):\n",
    "            fact=fact*i\n",
    "        return fact\n",
    "    @staticmethod\n",
    "    def isEven(num):\n",
    "        if num%2==0:\n",
    "            return True\n",
    "        else:\n",
    "            return False\n",
    "    @staticmethod\n",
    "    def isOdd(num):\n",
    "        if num%2!=0:\n",
    "            return True\n",
    "        else:\n",
    "            return False\n",
    "def main():\n",
    "    res1=Math.power(5,2)\n",
    "    res2=Math.factorial(4)\n",
    "    res3=Math.isEven(4)\n",
    "    res4=Math.isOdd(9)\n",
    "    print(res1,res2,res3,res4)\n",
    "main()"
   ]
  },
  {
   "cell_type": "code",
   "execution_count": 26,
   "id": "0d636fc4",
   "metadata": {},
   "outputs": [
    {
     "name": "stdout",
     "output_type": "stream",
     "text": [
      "30\n",
      "100\n",
      "inside static method\n"
     ]
    }
   ],
   "source": [
    "class A:\n",
    "    p=100\n",
    "    def __init__(self):\n",
    "        self.__x=10\n",
    "        self.__y=20\n",
    "    def add(self):\n",
    "        return self.__x+self.__y\n",
    "    @classmethod\n",
    "    def m1(cls):\n",
    "        print(cls.p)\n",
    "    @staticmethod\n",
    "    def m2():\n",
    "        print(\"inside static method\")\n",
    "def main():\n",
    "    obj1=A()\n",
    "    res1=obj1.add()\n",
    "    print(res1)\n",
    "    A.m1()\n",
    "    A.m2()\n",
    "main()"
   ]
  },
  {
   "cell_type": "code",
   "execution_count": null,
   "id": "83d83d46",
   "metadata": {},
   "outputs": [],
   "source": []
  }
 ],
 "metadata": {
  "kernelspec": {
   "display_name": "Python 3 (ipykernel)",
   "language": "python",
   "name": "python3"
  },
  "language_info": {
   "codemirror_mode": {
    "name": "ipython",
    "version": 3
   },
   "file_extension": ".py",
   "mimetype": "text/x-python",
   "name": "python",
   "nbconvert_exporter": "python",
   "pygments_lexer": "ipython3",
   "version": "3.9.7"
  }
 },
 "nbformat": 4,
 "nbformat_minor": 5
}
