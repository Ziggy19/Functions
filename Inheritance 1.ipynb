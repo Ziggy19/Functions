{
 "cells": [
  {
   "cell_type": "markdown",
   "id": "072c0f50",
   "metadata": {},
   "source": [
    "# Inheritance"
   ]
  },
  {
   "cell_type": "code",
   "execution_count": 5,
   "id": "5b413158",
   "metadata": {
    "scrolled": true
   },
   "outputs": [
    {
     "ename": "AttributeError",
     "evalue": "'B' object has no attribute 'n'",
     "output_type": "error",
     "traceback": [
      "\u001b[1;31m---------------------------------------------------------------------------\u001b[0m",
      "\u001b[1;31mAttributeError\u001b[0m                            Traceback (most recent call last)",
      "\u001b[1;32m~\\AppData\\Local\\Temp/ipykernel_10904/1743344352.py\u001b[0m in \u001b[0;36m<module>\u001b[1;34m\u001b[0m\n\u001b[0;32m     12\u001b[0m     \u001b[0mprint\u001b[0m\u001b[1;33m(\u001b[0m\u001b[0mobjb\u001b[0m\u001b[1;33m.\u001b[0m\u001b[0mF\u001b[0m\u001b[1;33m,\u001b[0m\u001b[0mobjb\u001b[0m\u001b[1;33m.\u001b[0m\u001b[0mC\u001b[0m\u001b[1;33m)\u001b[0m\u001b[1;33m\u001b[0m\u001b[1;33m\u001b[0m\u001b[0m\n\u001b[0;32m     13\u001b[0m \u001b[1;33m\u001b[0m\u001b[0m\n\u001b[1;32m---> 14\u001b[1;33m \u001b[0mmain\u001b[0m\u001b[1;33m(\u001b[0m\u001b[1;33m)\u001b[0m\u001b[1;33m\u001b[0m\u001b[1;33m\u001b[0m\u001b[0m\n\u001b[0m",
      "\u001b[1;32m~\\AppData\\Local\\Temp/ipykernel_10904/1743344352.py\u001b[0m in \u001b[0;36mmain\u001b[1;34m()\u001b[0m\n\u001b[0;32m      9\u001b[0m \u001b[1;32mdef\u001b[0m \u001b[0mmain\u001b[0m\u001b[1;33m(\u001b[0m\u001b[1;33m)\u001b[0m\u001b[1;33m:\u001b[0m\u001b[1;33m\u001b[0m\u001b[1;33m\u001b[0m\u001b[0m\n\u001b[0;32m     10\u001b[0m     \u001b[0mobjb\u001b[0m\u001b[1;33m=\u001b[0m\u001b[0mB\u001b[0m\u001b[1;33m(\u001b[0m\u001b[1;33m)\u001b[0m\u001b[1;33m\u001b[0m\u001b[1;33m\u001b[0m\u001b[0m\n\u001b[1;32m---> 11\u001b[1;33m     \u001b[0mprint\u001b[0m\u001b[1;33m(\u001b[0m\u001b[0mobjb\u001b[0m\u001b[1;33m.\u001b[0m\u001b[0mn\u001b[0m\u001b[1;33m,\u001b[0m\u001b[0mobjb\u001b[0m\u001b[1;33m.\u001b[0m\u001b[0mm\u001b[0m\u001b[1;33m)\u001b[0m\u001b[1;33m\u001b[0m\u001b[1;33m\u001b[0m\u001b[0m\n\u001b[0m\u001b[0;32m     12\u001b[0m     \u001b[0mprint\u001b[0m\u001b[1;33m(\u001b[0m\u001b[0mobjb\u001b[0m\u001b[1;33m.\u001b[0m\u001b[0mF\u001b[0m\u001b[1;33m,\u001b[0m\u001b[0mobjb\u001b[0m\u001b[1;33m.\u001b[0m\u001b[0mC\u001b[0m\u001b[1;33m)\u001b[0m\u001b[1;33m\u001b[0m\u001b[1;33m\u001b[0m\u001b[0m\n\u001b[0;32m     13\u001b[0m \u001b[1;33m\u001b[0m\u001b[0m\n",
      "\u001b[1;31mAttributeError\u001b[0m: 'B' object has no attribute 'n'"
     ]
    }
   ],
   "source": [
    "class A:\n",
    "    def __init__(self):\n",
    "        self.n=100\n",
    "        self.m=200\n",
    "class B(A):\n",
    "     def __init__(self):\n",
    "        self.F=150\n",
    "        self.C=400\n",
    "def main():        \n",
    "    objb=B()\n",
    "    print(objb.n,objb.m)\n",
    "    print(objb.F,objb.C)\n",
    "    \n",
    "main()    "
   ]
  },
  {
   "cell_type": "markdown",
   "id": "18366af0",
   "metadata": {},
   "source": [
    "The properties/attributes/variables of super class are not inherited automatically inside derived class/sub class.\n",
    "To inherit properties of base class within derived class, \n",
    "it is required to call constructor of base class within constructor of derived class. \n",
    "This calling is done using super()"
   ]
  },
  {
   "cell_type": "markdown",
   "id": "ff2fc6de",
   "metadata": {},
   "source": [
    "super():\n",
    "it is a type which reference of super class object. Using this object subclass members calls the members of super class."
   ]
  },
  {
   "cell_type": "code",
   "execution_count": 6,
   "id": "363ca17a",
   "metadata": {},
   "outputs": [
    {
     "name": "stdout",
     "output_type": "stream",
     "text": [
      "300 400\n",
      "100 200\n"
     ]
    }
   ],
   "source": [
    "class A: # base class/parent class/super class\n",
    "    def __init__(self):\n",
    "        self.x=100\n",
    "        self.y=200\n",
    "class B(A): # derived class/child class/sub class\n",
    "    def __init__(self):\n",
    "        super().__init__()\n",
    "        self.p=300\n",
    "        self.q=400\n",
    "def main():\n",
    "    objb=B()\n",
    "    print(objb.p,objb.q)\n",
    "    print(objb.x,objb.y)\n",
    "main()"
   ]
  },
  {
   "cell_type": "markdown",
   "id": "6552182f",
   "metadata": {},
   "source": [
    "Methods of base class/parent/super class are automatically inherited within derived class"
   ]
  },
  {
   "cell_type": "code",
   "execution_count": 9,
   "id": "3b3132e9",
   "metadata": {},
   "outputs": [
    {
     "name": "stdout",
     "output_type": "stream",
     "text": [
      "m1 of A\n",
      "m2 of A\n",
      "m3 of B\n",
      "m4 of B\n"
     ]
    }
   ],
   "source": [
    "class A:\n",
    "    def m1(self):\n",
    "        print(\"m1 of A\")\n",
    "    def m2(self):\n",
    "        print(\"m2 of A\")\n",
    "class B(A):\n",
    "    def m3(self):\n",
    "        print(\"m3 of B\")\n",
    "    def m4(self):\n",
    "        print(\"m4 of B\")\n",
    "def main():\n",
    "    objb=B()\n",
    "    objb.m1()\n",
    "    objb.m2()\n",
    "    objb.m3()\n",
    "    objb.m4()\n",
    "main()"
   ]
  },
  {
   "cell_type": "code",
   "execution_count": null,
   "id": "0426eadc",
   "metadata": {},
   "outputs": [],
   "source": []
  }
 ],
 "metadata": {
  "kernelspec": {
   "display_name": "Python 3 (ipykernel)",
   "language": "python",
   "name": "python3"
  },
  "language_info": {
   "codemirror_mode": {
    "name": "ipython",
    "version": 3
   },
   "file_extension": ".py",
   "mimetype": "text/x-python",
   "name": "python",
   "nbconvert_exporter": "python",
   "pygments_lexer": "ipython3",
   "version": "3.9.7"
  }
 },
 "nbformat": 4,
 "nbformat_minor": 5
}
