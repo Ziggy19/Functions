{
 "cells": [
  {
   "cell_type": "markdown",
   "id": "a531a700",
   "metadata": {},
   "source": [
    "# Class with arguments"
   ]
  },
  {
   "cell_type": "code",
   "execution_count": 38,
   "id": "86dced02",
   "metadata": {},
   "outputs": [
    {
     "name": "stdout",
     "output_type": "stream",
     "text": [
      "without arguments\n",
      "with one required argument\n",
      "with one required and default arguments\n",
      "100 None\n",
      "with one required and default arguments\n",
      "100 200\n",
      "with variable length argument\n",
      "(1, 2, 3, 4, 5, 6, 7)\n",
      "with keyword arguments\n",
      "{'a': 100, 'b': 200, 'c': 300}\n"
     ]
    }
   ],
   "source": [
    "class A:\n",
    "    def m1(self):\n",
    "        print(\"without arguments\")\n",
    "    def m2(self,a):\n",
    "        print(\"with one required argument\")\n",
    "    def m3(self,a,b=None):\n",
    "        print(\"with one required and default arguments\")\n",
    "        print(a,b)\n",
    "    def m4(self,*a):\n",
    "        print(\"with variable length argument\")\n",
    "        print(a)\n",
    "    def m5(self,**kwargs):\n",
    "        print(\"with keyword arguments\")\n",
    "        print(kwargs)\n",
    "def main():\n",
    "    obj1=A()\n",
    "    obj1.m1()\n",
    "    obj1.m2(10)\n",
    "    obj1.m3(100)\n",
    "    obj1.m3(100,200)\n",
    "    obj1.m4(1,2,3,4,5,6,7)\n",
    "    obj1.m5(a=100,b=200,c=300)\n",
    "main()"
   ]
  },
  {
   "cell_type": "code",
   "execution_count": null,
   "id": "27b6ae3c",
   "metadata": {},
   "outputs": [],
   "source": []
  }
 ],
 "metadata": {
  "kernelspec": {
   "display_name": "Python 3 (ipykernel)",
   "language": "python",
   "name": "python3"
  },
  "language_info": {
   "codemirror_mode": {
    "name": "ipython",
    "version": 3
   },
   "file_extension": ".py",
   "mimetype": "text/x-python",
   "name": "python",
   "nbconvert_exporter": "python",
   "pygments_lexer": "ipython3",
   "version": "3.9.7"
  }
 },
 "nbformat": 4,
 "nbformat_minor": 5
}
