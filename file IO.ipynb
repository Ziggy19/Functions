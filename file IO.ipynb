{
 "cells": [
  {
   "cell_type": "code",
   "execution_count": 2,
   "id": "9ccd1de0",
   "metadata": {},
   "outputs": [
    {
     "name": "stdout",
     "output_type": "stream",
     "text": [
      "pythonjavapython is scripting languagepython\n",
      "java\n",
      "oracle\n",
      "\n"
     ]
    }
   ],
   "source": [
    "fobj=open(\"file1.txt\",\"r\") \n",
    "s=fobj.read() \n",
    "print(s) \n",
    "fobj.close() \n",
    "f=open(\"file1.txt\",\"r\") \n",
    "while True: \n",
    "    s=f.read(1) \n",
    "    if s==\"\": \n",
    "        break \n",
    "        print(s,end='')\n",
    "fobj.close()"
   ]
  },
  {
   "cell_type": "code",
   "execution_count": 5,
   "id": "f30a29f3",
   "metadata": {},
   "outputs": [
    {
     "name": "stdout",
     "output_type": "stream",
     "text": [
      "pythonjavapython is scripting languagepython\n",
      "java\n",
      "oracle\n",
      "\n"
     ]
    }
   ],
   "source": [
    "f=open(\"file1.txt\",\"r\")\n",
    "s=f.read()\n",
    "print(s)\n",
    "f.close()"
   ]
  },
  {
   "cell_type": "code",
   "execution_count": 8,
   "id": "e86f4ac9",
   "metadata": {},
   "outputs": [],
   "source": [
    "f1=open(\"file1.txt\",\"r\")\n",
    "f2=open(\"file2.txt\",\"w\")\n",
    "s=f1.read()\n",
    "f2.write(s)\n",
    "f2.write(\"Hello Ziggy this is copy2\")\n",
    "f1.close()\n",
    "f2.close()"
   ]
  },
  {
   "cell_type": "code",
   "execution_count": 11,
   "id": "4f15473d",
   "metadata": {},
   "outputs": [
    {
     "name": "stdout",
     "output_type": "stream",
     "text": [
      "pythonjavapython is scripting languagepython\n",
      "\n",
      "java\n",
      "\n",
      "oracle\n",
      "\n",
      "Hello Ziggy this is copy2\n",
      "pythonjavapython is scripting languagepython\n",
      "\n",
      "java\n",
      "\n",
      "oracle\n",
      "\n",
      "Hello Ziggy this is copy2\n"
     ]
    }
   ],
   "source": [
    "f=open(\"file2.txt\",\"r\")\n",
    "s1=f.readline()\n",
    "print(s1)\n",
    "s2=f.readline()\n",
    "print(s2)\n",
    "s3=f.readline()\n",
    "print(s3)\n",
    "s4=f.readline()\n",
    "print(s4)\n",
    "f.close()\n",
    "f=open(\"file2.txt\",\"r\")\n",
    "while True:\n",
    "    s=f.readline()\n",
    "    if s==\"\":\n",
    "        break\n",
    "    print(s)"
   ]
  },
  {
   "cell_type": "code",
   "execution_count": null,
   "id": "1e4d5b66",
   "metadata": {},
   "outputs": [],
   "source": []
  }
 ],
 "metadata": {
  "kernelspec": {
   "display_name": "Python 3 (ipykernel)",
   "language": "python",
   "name": "python3"
  },
  "language_info": {
   "codemirror_mode": {
    "name": "ipython",
    "version": 3
   },
   "file_extension": ".py",
   "mimetype": "text/x-python",
   "name": "python",
   "nbconvert_exporter": "python",
   "pygments_lexer": "ipython3",
   "version": "3.9.7"
  }
 },
 "nbformat": 4,
 "nbformat_minor": 5
}
