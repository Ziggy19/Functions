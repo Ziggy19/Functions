{
 "cells": [
  {
   "cell_type": "markdown",
   "id": "73e24bc2",
   "metadata": {},
   "source": [
    "# Multipal Inheritance"
   ]
  },
  {
   "cell_type": "code",
   "execution_count": 1,
   "id": "26600618",
   "metadata": {},
   "outputs": [
    {
     "name": "stdout",
     "output_type": "stream",
     "text": [
      " x= 100  y=200  z=300 \n"
     ]
    }
   ],
   "source": [
    "class A:\n",
    "    def __init__(self):\n",
    "        self.x=100\n",
    "class B:\n",
    "    def __init__(self):\n",
    "        self.y=200\n",
    "class C(A,B):\n",
    "    def __init__(self):\n",
    "        super().__init__()\n",
    "        B.__init__(self)\n",
    "        self.z=300\n",
    "def main():\n",
    "    obj=C()\n",
    "    print(f\" x= {obj.x}  y={obj.y}  z={obj.z} \")\n",
    "main()    "
   ]
  },
  {
   "cell_type": "code",
   "execution_count": null,
   "id": "6f748d3d",
   "metadata": {},
   "outputs": [],
   "source": [
    "class Person:\n",
    "    def __init__(self):\n",
    "        self.n=None\n",
    "    def set_name(self,n):\n",
    "        self.name=n\n",
    "    def get_name(self):\n",
    "         return self.__name\n",
    "class Employee:\n",
    "    def __init__(self):\n",
    "        self.job=None\n",
    "    def set_job(self,j):\n",
    "        self.job=j\n",
    "    def get_job(self):\n",
    "        return self.__job\n",
    "class PE(Person,Employee):\n",
    "    def __init__(self):\n",
    "        super().__init__()\n",
    "        PE.__init__(self)\n",
    "    def set_salary(self,s):\n",
    "        self.salary=s\n",
    "    def get_salary(self):\n",
    "        return self.__salary\n",
    "def main():\n",
    "    obj=PE()\n",
    "    obj.set_name(\"Ziggy\")\n",
    "    obj.set_job(\"Teacher\")\n",
    "    obj.set_salary(56743)\n",
    "    print(f\"name={obj.get_name()} , Job={obj.get_job}, salary={obj.get_salary}\")\n",
    "    \n",
    "        \n",
    "main()        \n",
    "        "
   ]
  },
  {
   "cell_type": "code",
   "execution_count": null,
   "id": "d117b4fa",
   "metadata": {},
   "outputs": [],
   "source": []
  }
 ],
 "metadata": {
  "kernelspec": {
   "display_name": "Python 3 (ipykernel)",
   "language": "python",
   "name": "python3"
  },
  "language_info": {
   "codemirror_mode": {
    "name": "ipython",
    "version": 3
   },
   "file_extension": ".py",
   "mimetype": "text/x-python",
   "name": "python",
   "nbconvert_exporter": "python",
   "pygments_lexer": "ipython3",
   "version": "3.9.7"
  }
 },
 "nbformat": 4,
 "nbformat_minor": 5
}
