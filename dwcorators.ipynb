{
 "cells": [
  {
   "cell_type": "markdown",
   "id": "b3b7fdbb",
   "metadata": {},
   "source": [
    "# Function decorators"
   ]
  },
  {
   "cell_type": "markdown",
   "id": "3641de46",
   "metadata": {},
   "source": [
    "decorators are used to modify the behaviour of function or class. \n",
    "In Decorators, functions are taken as the argument into another function and then called inside the wrapper function."
   ]
  },
  {
   "cell_type": "code",
   "execution_count": 8,
   "id": "af73b26e",
   "metadata": {},
   "outputs": [
    {
     "name": "stdout",
     "output_type": "stream",
     "text": [
      "Before executing\n",
      "Hii ziggy\n",
      "Welcome here\n",
      "After executing\n"
     ]
    }
   ],
   "source": [
    "def deco(fun):\n",
    "    def inner():\n",
    "        print(\"Before executing\")\n",
    "        fun()\n",
    "        print(\"After executing\")\n",
    "    return inner\n",
    "@deco\n",
    "def pri():\n",
    "    print(\"Hii ziggy\")\n",
    "    print(\"Welcome here\")\n",
    "pri()    \n",
    "# new=deco(pri)\n",
    "#new()\n",
    "    "
   ]
  },
  {
   "cell_type": "code",
   "execution_count": 15,
   "id": "65914338",
   "metadata": {},
   "outputs": [
    {
     "data": {
      "text/plain": [
       "15"
      ]
     },
     "execution_count": 15,
     "metadata": {},
     "output_type": "execute_result"
    }
   ],
   "source": [
    "a=0\n",
    "def decor(fun):\n",
    "    def inner():\n",
    "        global a\n",
    "        a=5+ fun()\n",
    "        return a\n",
    "    return inner\n",
    "@decor\n",
    "def neww():\n",
    "    return 10\n",
    "# new=decor(neww)\n",
    "# new()\n",
    "new()        "
   ]
  },
  {
   "cell_type": "code",
   "execution_count": 17,
   "id": "3ebefe76",
   "metadata": {},
   "outputs": [
    {
     "name": "stdout",
     "output_type": "stream",
     "text": [
      "HI, I AM CREATED BY A FUNCTION PASSED AS AN ARGUMENT.\n",
      "hi, i am created by a function passed as an argument.\n"
     ]
    }
   ],
   "source": [
    "def greet(func):\n",
    "    # storing the function in a variable\n",
    "    greeting = func(\"\"\"Hi, I am created by a function passed as an argument.\"\"\")\n",
    "    print (greeting)\n",
    "@greet    \n",
    "def shout(text):\n",
    "    return text.upper()\n",
    "@greet \n",
    "def whisper(text):\n",
    "    return text.lower()    \n",
    "# greet(shout)\n",
    "# greet(whisper)"
   ]
  },
  {
   "cell_type": "code",
   "execution_count": null,
   "id": "75bb95b0",
   "metadata": {},
   "outputs": [],
   "source": []
  }
 ],
 "metadata": {
  "kernelspec": {
   "display_name": "Python 3 (ipykernel)",
   "language": "python",
   "name": "python3"
  },
  "language_info": {
   "codemirror_mode": {
    "name": "ipython",
    "version": 3
   },
   "file_extension": ".py",
   "mimetype": "text/x-python",
   "name": "python",
   "nbconvert_exporter": "python",
   "pygments_lexer": "ipython3",
   "version": "3.9.7"
  }
 },
 "nbformat": 4,
 "nbformat_minor": 5
}
