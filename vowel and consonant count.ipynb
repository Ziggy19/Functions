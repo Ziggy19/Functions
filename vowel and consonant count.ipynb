{
 "cells": [
  {
   "cell_type": "markdown",
   "id": "227c11ce",
   "metadata": {},
   "source": [
    "# Count Vowels and consonant in string"
   ]
  },
  {
   "cell_type": "code",
   "execution_count": 11,
   "id": "61924bdc",
   "metadata": {},
   "outputs": [
    {
     "name": "stdout",
     "output_type": "stream",
     "text": [
      "Enter string:\tmuskan\n",
      "2  vowel is present in muskan\t\n",
      "4  consonant is present in muskan\t\n"
     ]
    }
   ],
   "source": [
    "#Vowel and consonant counts\n",
    "def vowel_counts(a):\n",
    "    c=0\n",
    "    for i in a:\n",
    "        if i in \"AEIOUaeiou\":\n",
    "            c=c+1\n",
    "    return c \n",
    "def consonant_counts(a):\n",
    "    c=0\n",
    "    for i in a:\n",
    "        if i not in \"AEIOUaeiou\":\n",
    "            c=c+1\n",
    "    return c\n",
    "def main():\n",
    "    str1=input(\"Enter string:\\t\")\n",
    "    k= vowel_counts(str1)\n",
    "    co=consonant_counts(str1)\n",
    "    if k==0:\n",
    "        print(f\"There are not vowel in {str1}\")\n",
    "    else:\n",
    "        print(f\"{k}  vowel is present in {str1}\\t\")\n",
    "    if co==0:\n",
    "        print(f\"There are not consonant in {str1}\")\n",
    "    else:\n",
    "        print(f\"{co}  consonant is present in {str1}\\t\")\n",
    "        \n",
    "    \n",
    "main()        "
   ]
  },
  {
   "cell_type": "code",
   "execution_count": null,
   "id": "72f47f5a",
   "metadata": {},
   "outputs": [],
   "source": []
  }
 ],
 "metadata": {
  "kernelspec": {
   "display_name": "Python 3 (ipykernel)",
   "language": "python",
   "name": "python3"
  },
  "language_info": {
   "codemirror_mode": {
    "name": "ipython",
    "version": 3
   },
   "file_extension": ".py",
   "mimetype": "text/x-python",
   "name": "python",
   "nbconvert_exporter": "python",
   "pygments_lexer": "ipython3",
   "version": "3.9.7"
  }
 },
 "nbformat": 4,
 "nbformat_minor": 5
}
