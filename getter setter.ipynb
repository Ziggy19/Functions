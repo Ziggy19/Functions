{
 "cells": [
  {
   "cell_type": "markdown",
   "id": "962edb98",
   "metadata": {},
   "source": [
    "# Getter setter"
   ]
  },
  {
   "cell_type": "code",
   "execution_count": 1,
   "id": "de595268",
   "metadata": {},
   "outputs": [
    {
     "name": "stdout",
     "output_type": "stream",
     "text": [
      "How many Employee you want to add?\t3\n",
      "Enter 1 Employee name\tziggy\n",
      "Enter 1 Employee ID\t1\n",
      "Enter 1 Employee salary\t23454.567\n",
      "Enter 2 Employee name\tmonu\n",
      "Enter 2 Employee ID\t2\n",
      "Enter 2 Employee salary\t44563.567\n",
      "Enter 3 Employee name\tmuskan\n",
      "Enter 3 Employee ID\t3\n",
      "Enter 3 Employee salary\t45674.897\n",
      " Employee ID:  1,Employee Name:  ziggy,Employee Salary:  23454.567\n",
      " Employee ID:  2,Employee Name:  monu,Employee Salary:  44563.567\n",
      " Employee ID:  3,Employee Name:  muskan,Employee Salary:  45674.897\n"
     ]
    }
   ],
   "source": [
    "# write a program to read details of n employees\n",
    "class Employee:\n",
    "    def __init__(self):\n",
    "        self.__ID=None\n",
    "        self.__name=None\n",
    "        self.__salary=None\n",
    "    def set_ID(self , e):\n",
    "        self.__ID=e\n",
    "    def set_name(self, n):\n",
    "        self.__name=n\n",
    "    def set_sal(self, s):\n",
    "        self.__sal=s\n",
    "    def get_ID(self):\n",
    "        return self.__ID\n",
    "    def get_name(self):\n",
    "        return self.__name\n",
    "    def get_sal(self):\n",
    "        return self.__sal\n",
    "def main():\n",
    "    n=int(input(\"How many Employee you want to add?\\t\"))\n",
    "    emp=[]\n",
    "    for i in range(1,n+1):\n",
    "        name=input(f\"Enter {i} Employee name\\t\")\n",
    "        ID=int(input(f\"Enter {i} Employee ID\\t\"))\n",
    "        sal=float(input(f\"Enter {i} Employee salary\\t\"))\n",
    "        e=Employee()\n",
    "        e.set_ID(ID)\n",
    "        e.set_name(name)\n",
    "        e.set_sal(sal)\n",
    "        emp.append(e)    \n",
    "    for e in emp:\n",
    "        print(f\" Employee ID:  {e.get_ID()},Employee Name:  {e.get_name()},Employee Salary:  {e.get_sal()}\")\n",
    "main()        "
   ]
  },
  {
   "cell_type": "code",
   "execution_count": null,
   "id": "bf3b9dbd",
   "metadata": {},
   "outputs": [],
   "source": []
  }
 ],
 "metadata": {
  "kernelspec": {
   "display_name": "Python 3 (ipykernel)",
   "language": "python",
   "name": "python3"
  },
  "language_info": {
   "codemirror_mode": {
    "name": "ipython",
    "version": 3
   },
   "file_extension": ".py",
   "mimetype": "text/x-python",
   "name": "python",
   "nbconvert_exporter": "python",
   "pygments_lexer": "ipython3",
   "version": "3.9.7"
  }
 },
 "nbformat": 4,
 "nbformat_minor": 5
}
