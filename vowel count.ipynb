{
 "cells": [
  {
   "cell_type": "markdown",
   "id": "8b56c096",
   "metadata": {},
   "source": [
    "# Count Vowels of string"
   ]
  },
  {
   "cell_type": "code",
   "execution_count": 9,
   "id": "62bb5623",
   "metadata": {},
   "outputs": [
    {
     "name": "stdout",
     "output_type": "stream",
     "text": [
      "Enter string:\thello\n",
      "2  vowel is present in hello\t\n"
     ]
    }
   ],
   "source": [
    "#Vowel counts\n",
    "def vowel_counts(a):\n",
    "    c=0\n",
    "    for i in a:\n",
    "        if i in \"AEIOUaeiou\":\n",
    "            c=c+1\n",
    "    return c   \n",
    "def main():\n",
    "    str1=input(\"Enter string:\\t\")\n",
    "    k= vowel_counts(str1)\n",
    "    if k==0:\n",
    "        print(f\"There are not vowel in {str1}\")\n",
    "    else:\n",
    "        print(f\"{k}  vowel is present in {str1}\\t\")\n",
    "    \n",
    "main()  "
   ]
  },
  {
   "cell_type": "code",
   "execution_count": 10,
   "id": "253cbcb7",
   "metadata": {},
   "outputs": [
    {
     "name": "stdout",
     "output_type": "stream",
     "text": [
      "Enter string:\tBP\n",
      "There are not vowel in BP\n"
     ]
    }
   ],
   "source": [
    "#Vowel counts\n",
    "def vowel_counts(a):\n",
    "    c=0\n",
    "    for i in a:\n",
    "        if i in \"AEIOUaeiou\":\n",
    "            c=c+1\n",
    "    return c   \n",
    "def main():\n",
    "    str1=input(\"Enter string:\\t\")\n",
    "    k= vowel_counts(str1)\n",
    "    if k==0:\n",
    "        print(f\"There are not vowel in {str1}\")\n",
    "    else:\n",
    "        print(f\"{k}  vowel is present in {str1}\\t\")\n",
    "    \n",
    "main()  "
   ]
  },
  {
   "cell_type": "code",
   "execution_count": null,
   "id": "e42062ed",
   "metadata": {},
   "outputs": [],
   "source": []
  }
 ],
 "metadata": {
  "kernelspec": {
   "display_name": "Python 3 (ipykernel)",
   "language": "python",
   "name": "python3"
  },
  "language_info": {
   "codemirror_mode": {
    "name": "ipython",
    "version": 3
   },
   "file_extension": ".py",
   "mimetype": "text/x-python",
   "name": "python",
   "nbconvert_exporter": "python",
   "pygments_lexer": "ipython3",
   "version": "3.9.7"
  }
 },
 "nbformat": 4,
 "nbformat_minor": 5
}
