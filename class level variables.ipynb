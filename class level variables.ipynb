{
 "cells": [
  {
   "cell_type": "markdown",
   "id": "962edb98",
   "metadata": {},
   "source": [
    "# Class level variables"
   ]
  },
  {
   "cell_type": "code",
   "execution_count": 10,
   "id": "195e3483",
   "metadata": {},
   "outputs": [
    {
     "name": "stdout",
     "output_type": "stream",
     "text": [
      "Product created\n",
      "Product created\n",
      "Product created\n",
      "Count of products 3\n"
     ]
    }
   ],
   "source": [
    "class Product:\n",
    "    count=0 # class level variable\n",
    "    def __init__(self):\n",
    "        print(\"Product created\")\n",
    "        Product.count+=1\n",
    "        self.pname=None\n",
    "        self.qty=None\n",
    "def main():\n",
    "    p1=Product()\n",
    "    p2=Product()\n",
    "    p3=Product()\n",
    "    print(f'Count of products {Product.count}')\n",
    "main()"
   ]
  },
  {
   "cell_type": "code",
   "execution_count": 11,
   "id": "9df8c11e",
   "metadata": {},
   "outputs": [
    {
     "name": "stdout",
     "output_type": "stream",
     "text": [
      "MinBalance Maintained by Customer is 5000\n",
      "AccountNo 101\n",
      "CustomerName naresh\n",
      "Balance 15000\n",
      "AccountNo 101\n",
      "CustomerName naresh\n",
      "Balance 17000\n",
      "AccountNo 101\n",
      "CustomerName naresh\n",
      "Balance 10000\n",
      "insuff balance\n"
     ]
    }
   ],
   "source": [
    "class Account:\n",
    "    min_bal=5000\n",
    "    def __init__(self,a,c,b):\n",
    "        self.__accno=a\n",
    "        self.__cname=c\n",
    "        self.__balance=b\n",
    "    def depsoit(self,t):\n",
    "        self.__balance+=t\n",
    "    def withdraw(self,t):\n",
    "        if (self.__balance-t)>Account.min_bal:\n",
    "            self.__balance-=t\n",
    "        else:\n",
    "            print(\"insuff balance\")\n",
    "    def print_info(self):\n",
    "        print(f'AccountNo {self.__accno}\\nCustomerName {self.__cname}\\nBalance {self.__balance}')\n",
    "def main():\n",
    "    print(f'MinBalance Maintained by Customer is {Account.min_bal}')\n",
    "    acc1=Account(101,\"naresh\",15000)\n",
    "    acc1.print_info()\n",
    "    acc1.depsoit(2000)\n",
    "    acc1.print_info()\n",
    "    acc1.withdraw(7000)\n",
    "    acc1.print_info()\n",
    "    acc1.withdraw(8000)\n",
    "main()"
   ]
  },
  {
   "cell_type": "code",
   "execution_count": null,
   "id": "03fdb20e",
   "metadata": {},
   "outputs": [],
   "source": []
  }
 ],
 "metadata": {
  "kernelspec": {
   "display_name": "Python 3 (ipykernel)",
   "language": "python",
   "name": "python3"
  },
  "language_info": {
   "codemirror_mode": {
    "name": "ipython",
    "version": 3
   },
   "file_extension": ".py",
   "mimetype": "text/x-python",
   "name": "python",
   "nbconvert_exporter": "python",
   "pygments_lexer": "ipython3",
   "version": "3.9.7"
  }
 },
 "nbformat": 4,
 "nbformat_minor": 5
}
