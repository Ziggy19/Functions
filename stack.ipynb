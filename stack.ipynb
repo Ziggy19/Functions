{
 "cells": [
  {
   "cell_type": "markdown",
   "id": "962edb98",
   "metadata": {},
   "source": [
    "# STACKS"
   ]
  },
  {
   "cell_type": "code",
   "execution_count": 7,
   "id": "f40be2d2",
   "metadata": {},
   "outputs": [
    {
     "name": "stdout",
     "output_type": "stream",
     "text": [
      "100 50 40\n"
     ]
    }
   ],
   "source": [
    "class stack:\n",
    "    def __init__(self):\n",
    "        self.__s=[]\n",
    "    def push(self,v):\n",
    "        self.__s.append(v)\n",
    "    def pop(self):\n",
    "        if len(self.__s)==0:\n",
    "            print(\"Nothing to remove\")\n",
    "        else:\n",
    "            return self.__s.pop()\n",
    "def main():\n",
    "    stack1=stack()\n",
    "    stack1.push(10)\n",
    "    stack1.push(20)\n",
    "    stack1.push(30)\n",
    "    stack1.push(40)\n",
    "    stack1.push(50)\n",
    "    stack1.push(100)\n",
    "    v1= stack1.pop()\n",
    "    v2= stack1.pop()\n",
    "    v3= stack1.pop()\n",
    "    print(v1,v2,v3)\n",
    "main()        "
   ]
  },
  {
   "cell_type": "code",
   "execution_count": null,
   "id": "195e3483",
   "metadata": {},
   "outputs": [],
   "source": []
  }
 ],
 "metadata": {
  "kernelspec": {
   "display_name": "Python 3 (ipykernel)",
   "language": "python",
   "name": "python3"
  },
  "language_info": {
   "codemirror_mode": {
    "name": "ipython",
    "version": 3
   },
   "file_extension": ".py",
   "mimetype": "text/x-python",
   "name": "python",
   "nbconvert_exporter": "python",
   "pygments_lexer": "ipython3",
   "version": "3.9.7"
  }
 },
 "nbformat": 4,
 "nbformat_minor": 5
}
