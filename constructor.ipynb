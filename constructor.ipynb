{
 "cells": [
  {
   "cell_type": "markdown",
   "id": "962edb98",
   "metadata": {},
   "source": [
    "# Constructer"
   ]
  },
  {
   "cell_type": "code",
   "execution_count": 1,
   "id": "2698fe7b",
   "metadata": {},
   "outputs": [
    {
     "name": "stdout",
     "output_type": "stream",
     "text": [
      "Employee ID is:  1, Name:  ziggy,  salary:  45678,  position:  SE\n",
      "Employee ID is:  2, Name:  monu,  salary:  56746,  position:  DS\n"
     ]
    }
   ],
   "source": [
    "# Constructors are generally used for instantiating an object.\n",
    "# The task of constructors is to initialize(assign values) to the data members of the class when an object of the class is created. \n",
    "# In Python the __init__() method is called the constructor and is always called when an object is created.\n",
    "\n",
    "\n",
    "class Employee:\n",
    "    def __init__(self,ID, name, salary, position ):\n",
    "        print(f\"Employee ID is:  {ID}, Name:  {name},  salary:  {salary},  position:  {position}\")\n",
    "def main():\n",
    "    E1=Employee(1, \"ziggy\", 45678, \"SE\")\n",
    "    E2=Employee(2,\"monu\", 56746, \"DS\")\n",
    "main()    "
   ]
  },
  {
   "cell_type": "code",
   "execution_count": null,
   "id": "b191f796",
   "metadata": {},
   "outputs": [],
   "source": []
  }
 ],
 "metadata": {
  "kernelspec": {
   "display_name": "Python 3 (ipykernel)",
   "language": "python",
   "name": "python3"
  },
  "language_info": {
   "codemirror_mode": {
    "name": "ipython",
    "version": 3
   },
   "file_extension": ".py",
   "mimetype": "text/x-python",
   "name": "python",
   "nbconvert_exporter": "python",
   "pygments_lexer": "ipython3",
   "version": "3.9.7"
  }
 },
 "nbformat": 4,
 "nbformat_minor": 5
}
