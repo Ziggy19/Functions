{
 "cells": [
  {
   "cell_type": "markdown",
   "id": "962edb98",
   "metadata": {},
   "source": [
    "# Class & Object"
   ]
  },
  {
   "cell_type": "code",
   "execution_count": 18,
   "id": "0c18f3c3",
   "metadata": {},
   "outputs": [
    {
     "name": "stdout",
     "output_type": "stream",
     "text": [
      "car start\n",
      "car stop\n",
      "car stop\n",
      "car stop\n"
     ]
    }
   ],
   "source": [
    "\n",
    "\n",
    "class Car: #creating Class \n",
    "    def start(self):# Function\n",
    "        print(\"car start\")\n",
    "    def stop(self):\n",
    "        print(\"car stop\")\n",
    "def main():\n",
    "    car1=Car()#creating object here without argument\n",
    "    car2=Car()\n",
    "    car1.start()\n",
    "    car1.stop()\n",
    "    car2.stop()\n",
    "    car2.stop()\n",
    "main()    "
   ]
  },
  {
   "cell_type": "code",
   "execution_count": 19,
   "id": "595bac1d",
   "metadata": {},
   "outputs": [
    {
     "name": "stdout",
     "output_type": "stream",
     "text": [
      "roll no:-> 1, name:-> ziggy, class:-> 10th, father name:-> bhagi ram, roll_no:-> 101\n",
      "roll no:-> 2, name:-> muskan, class:-> 10th, father name:-> bhagi ram netam, roll_no:-> 102\n"
     ]
    }
   ],
   "source": [
    "class student:\n",
    "    def student_data(self, serial_no, name, father_name, roll_no, class_name):\n",
    "        print(f\"roll no:-> {serial_no}, name:-> {name}, class:-> {class_name}, father name:-> {father_name}, roll_no:-> {roll_no}\")\n",
    "def main():\n",
    "    student1=student() #making object with argument\n",
    "    student2=student()#making object\n",
    "    student1.student_data(1,\"ziggy\",\"bhagi ram\",101,\"10th\")#giving parameter\n",
    "    student2.student_data(2,\"muskan\",\"bhagi ram netam\",102,\"10th\")\n",
    "\n",
    "    \n",
    "main()    \n",
    "        \n",
    "    "
   ]
  },
  {
   "cell_type": "code",
   "execution_count": null,
   "id": "2698fe7b",
   "metadata": {},
   "outputs": [],
   "source": []
  }
 ],
 "metadata": {
  "kernelspec": {
   "display_name": "Python 3 (ipykernel)",
   "language": "python",
   "name": "python3"
  },
  "language_info": {
   "codemirror_mode": {
    "name": "ipython",
    "version": 3
   },
   "file_extension": ".py",
   "mimetype": "text/x-python",
   "name": "python",
   "nbconvert_exporter": "python",
   "pygments_lexer": "ipython3",
   "version": "3.9.7"
  }
 },
 "nbformat": 4,
 "nbformat_minor": 5
}
