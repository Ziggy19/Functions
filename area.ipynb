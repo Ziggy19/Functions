{
 "cells": [
  {
   "cell_type": "markdown",
   "id": "4eb3fbfb",
   "metadata": {},
   "source": [
    "# Find Area "
   ]
  },
  {
   "cell_type": "code",
   "execution_count": 8,
   "id": "374f8c9c",
   "metadata": {},
   "outputs": [
    {
     "name": "stdout",
     "output_type": "stream",
     "text": [
      "Enter base\t45.3\n",
      "Enter height\t56\n",
      "area is 1268.40\n"
     ]
    }
   ],
   "source": [
    "def read():\n",
    "    global base,height \n",
    "    base=float(input(\"Enter base\\t\")) \n",
    "    height=float(input(\"Enter height\\t\"))\n",
    "def find_area():\n",
    "    area=base*height*0.5 \n",
    "    print(f'area is {area:.2f}')\n",
    "def main():\n",
    "    read()\n",
    "    find_area()\n",
    "main()"
   ]
  },
  {
   "cell_type": "code",
   "execution_count": null,
   "id": "4a411d90",
   "metadata": {},
   "outputs": [],
   "source": []
  }
 ],
 "metadata": {
  "kernelspec": {
   "display_name": "Python 3 (ipykernel)",
   "language": "python",
   "name": "python3"
  },
  "language_info": {
   "codemirror_mode": {
    "name": "ipython",
    "version": 3
   },
   "file_extension": ".py",
   "mimetype": "text/x-python",
   "name": "python",
   "nbconvert_exporter": "python",
   "pygments_lexer": "ipython3",
   "version": "3.9.7"
  }
 },
 "nbformat": 4,
 "nbformat_minor": 5
}
