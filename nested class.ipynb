{
 "cells": [
  {
   "cell_type": "markdown",
   "id": "3af9b841",
   "metadata": {},
   "source": [
    "# Nested Class"
   ]
  },
  {
   "cell_type": "code",
   "execution_count": 8,
   "id": "d743fa8d",
   "metadata": {},
   "outputs": [
    {
     "name": "stdout",
     "output_type": "stream",
     "text": [
      "m1 of B class\n"
     ]
    }
   ],
   "source": [
    "class A: # outer class\n",
    "    class B: # inner class\n",
    "        def m1(self):\n",
    "            print(\"m1 of B class\")\n",
    "    objb=B() # class level variable\n",
    "def main():\n",
    "    A.objb.m1()\n",
    "main()"
   ]
  },
  {
   "cell_type": "code",
   "execution_count": 9,
   "id": "49e1e3b4",
   "metadata": {},
   "outputs": [
    {
     "name": "stdout",
     "output_type": "stream",
     "text": [
      "Name :ziggy\n",
      "Street :dd nagar\n",
      "City :Raipur\n",
      "Street :sector 1\n",
      "City :Raipur\n",
      "ziggy\n",
      "dd nagar,Raipur\n",
      "sector 1,Raipur\n"
     ]
    }
   ],
   "source": [
    "class Person: # outer class\n",
    "    class Address: # inner class\n",
    "        def __init__(self):\n",
    "            self.__street=None\n",
    "            self.__city=None\n",
    "        def read_address(self):\n",
    "            self.__street=input(\"Street :\")\n",
    "            self.__city=input(\"City :\")\n",
    "        def print_address(self):\n",
    "            print(f'{self.__street},{self.__city}')\n",
    "    def __init__(self):\n",
    "        self.__name=None\n",
    "        self.__add1=Person.Address()\n",
    "        self.__add2=Person.Address()\n",
    "    def read(self):\n",
    "        self.__name=input(\"Name :\")\n",
    "        self.__add1.read_address()\n",
    "        self.__add2.read_address()\n",
    "    def print_person(self):\n",
    "        print(f'{self.__name}')\n",
    "        self.__add1.print_address()\n",
    "        self.__add2.print_address()\n",
    "def main():\n",
    "    p1=Person()\n",
    "    p1.read()\n",
    "    p1.print_person()\n",
    "main()"
   ]
  },
  {
   "cell_type": "code",
   "execution_count": null,
   "id": "30fd74e3",
   "metadata": {},
   "outputs": [],
   "source": []
  }
 ],
 "metadata": {
  "kernelspec": {
   "display_name": "Python 3 (ipykernel)",
   "language": "python",
   "name": "python3"
  },
  "language_info": {
   "codemirror_mode": {
    "name": "ipython",
    "version": 3
   },
   "file_extension": ".py",
   "mimetype": "text/x-python",
   "name": "python",
   "nbconvert_exporter": "python",
   "pygments_lexer": "ipython3",
   "version": "3.9.7"
  }
 },
 "nbformat": 4,
 "nbformat_minor": 5
}
