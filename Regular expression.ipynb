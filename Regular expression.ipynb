{
 "cells": [
  {
   "cell_type": "markdown",
   "id": "79a4f678",
   "metadata": {},
   "source": [
    "# Regular Expression"
   ]
  },
  {
   "cell_type": "code",
   "execution_count": 17,
   "id": "9f9ce638",
   "metadata": {},
   "outputs": [
    {
     "name": "stdout",
     "output_type": "stream",
     "text": [
      "<re.Match object; span=(0, 2), match='Jy'>\n",
      "None\n"
     ]
    }
   ],
   "source": [
    "#match\n",
    "\n",
    "import re\n",
    "def main():\n",
    "    str1=\"Jython Language Python language\"\n",
    "    m1=re.match(r'Jy',str1)\n",
    "    m2=re.match(r'Py',str1)\n",
    "    print(m1)\n",
    "    print(m2)\n",
    "main()    "
   ]
  },
  {
   "cell_type": "code",
   "execution_count": 18,
   "id": "457a8201",
   "metadata": {},
   "outputs": [
    {
     "name": "stdout",
     "output_type": "stream",
     "text": [
      "<re.Match object; span=(11, 17), match='python'>\n",
      "python\n",
      "(11, 17)\n",
      "None\n"
     ]
    }
   ],
   "source": [
    "#search\n",
    "\n",
    "import re\n",
    "def main():\n",
    "    str1=\"java c cpp python oracle python\"\n",
    "    m=re.search(r'python',str1)\n",
    "    print(m)\n",
    "    print(m.group())\n",
    "    print(m.span())\n",
    "    m1=re.search(r'C#',str1)\n",
    "    print(m1)\n",
    "main()"
   ]
  },
  {
   "cell_type": "markdown",
   "id": "4f695c93",
   "metadata": {},
   "source": [
    "re.findall(pattern, string, flags=0)"
   ]
  },
  {
   "cell_type": "code",
   "execution_count": 19,
   "id": "ca4ed7f3",
   "metadata": {},
   "outputs": [
    {
     "name": "stdout",
     "output_type": "stream",
     "text": [
      "['python', 'python', 'python']\n"
     ]
    }
   ],
   "source": [
    "str1=\"java python oracle python cpp python\"\n",
    "l=re.findall(r'python',str1)\n",
    "print(l)"
   ]
  },
  {
   "cell_type": "markdown",
   "id": "b17b6744",
   "metadata": {},
   "source": [
    ".\n",
    "(Dot.) In the default mode, this matches any character except a newline.\n",
    "If the DOTALL flag has been specified, this matches any character including a newline."
   ]
  },
  {
   "cell_type": "code",
   "execution_count": 21,
   "id": "1d4ca1b3",
   "metadata": {},
   "outputs": [
    {
     "name": "stdout",
     "output_type": "stream",
     "text": [
      "['py', 'jy', 'xy', 'PY', 'JY']\n",
      "['pr', 'og', 'ra', 'mm', 'in']\n",
      "['p', 'r', 'o', 'g', 'r', 'a', 'm', 'm', 'i', 'n', 'g']\n",
      "['p', 'r', 'o', 'g', 'l', 'a', 'n', 'g']\n",
      "['p', 'r', 'o', 'g', '\\n', 'l', 'a', 'n', 'g']\n"
     ]
    }
   ],
   "source": [
    "str1=\"c c# j# py jy xy PY JY\"\n",
    "l=re.findall(r'.y',str1,re.IGNORECASE)\n",
    "print(l)\n",
    "str2=\"programming\"\n",
    "l=re.findall(r'..',str2)\n",
    "print(l)\n",
    "l=re.findall(r'.',str2)\n",
    "print(l)\n",
    "str3=\"prog\\nlang\"\n",
    "l=re.findall(r'.',str3)\n",
    "print(l)\n",
    "l=re.findall(r'.',str3,re.DOTALL)\n",
    "print(l)"
   ]
  },
  {
   "cell_type": "markdown",
   "id": "801f28aa",
   "metadata": {},
   "source": [
    "^\n",
    "(Caret.) Matches the start of the string, and in MULTILINE mode also matches immediately after each newline."
   ]
  },
  {
   "cell_type": "code",
   "execution_count": 22,
   "id": "cb71cf3c",
   "metadata": {},
   "outputs": [
    {
     "name": "stdout",
     "output_type": "stream",
     "text": [
      "rajesh\n",
      "raman\n"
     ]
    }
   ],
   "source": [
    "names=['naresh','suresh','rajesh','kishore','raman']\n",
    "for name in names:\n",
    "    m=re.search(r'^r',name)\n",
    "    if m!=None:\n",
    "        print(name)"
   ]
  },
  {
   "cell_type": "markdown",
   "id": "34623f72",
   "metadata": {},
   "source": [
    "<!-- $\n",
    "Matches the end of the string or just before the newline at the end of the string, and in MULTILINE mode also matches before a newline.\n",
    "*\n",
    "Causes the resulting RE to match 0 or more repetitions of the preceding RE, as many repetitions as are possible.\n",
    "ab* will match ‘a’, ‘ab’, or ‘a’ followed by any number of ‘b’s.\n",
    "$\n",
    "Matches the end of the string or just before the newline at the end of the string, and in MULTILINE mode also matches before a newline.\n",
    "*\n",
    "Causes the resulting RE to match 0 or more repetitions of the preceding RE, as many repetitions as are possible.\n",
    "ab* will match ‘a’, ‘ab’, or ‘a’ followed by any number of ‘b’s. -->"
   ]
  },
  {
   "cell_type": "code",
   "execution_count": 23,
   "id": "ecb75f69",
   "metadata": {},
   "outputs": [],
   "source": [
    "# $\n",
    "# Matches the end of the string or just before the newline at the end of the string, and in MULTILINE mode also matches before a newline.\n",
    "# *\n",
    "# Causes the resulting RE to match 0 or more repetitions of the preceding RE, as many repetitions as are possible. ab* will match ‘a’, ‘ab’, or ‘a’ followed by any number of ‘b’s.\n",
    "# $\n",
    "# Matches the end of the string or just before the newline at the end of the string, and in MULTILINE mode also matches before a newline.\n",
    "# *\n",
    "# Causes the resulting RE to match 0 or more repetitions of the preceding RE, as many repetitions as are possible. ab* will match ‘a’, ‘ab’, or ‘a’ followed by any number of ‘b’s."
   ]
  },
  {
   "cell_type": "code",
   "execution_count": 24,
   "id": "8e1f8cfe",
   "metadata": {},
   "outputs": [
    {
     "name": "stdout",
     "output_type": "stream",
     "text": [
      "naresh@nareshit.com\n",
      "naresh\n",
      "nareshit.com\n"
     ]
    }
   ],
   "source": [
    "str1=\"mail-id: naresh@nareshit.com\"\n",
    "str2=\"mail-id: naresh@nareshit\"\n",
    "m=re.search(r'([a-z]{1,})@([a-z]{1,}\\.[a-z]{2,3})',str1)\n",
    "if m!=None:\n",
    "    print(m.group(0))\n",
    "    print(m.group(1))\n",
    "    print(m.group(2))\n",
    "else:\n",
    "    print(\"not found\")\n",
    "    m=re.search(r'([a-z]{1,})@([a-z]{1,}\\.[a-z]{2,3})',str2)\n",
    "    if m!=None:\n",
    "        print(m.group(0))\n",
    "    else:\n",
    "        print(\"not found\")"
   ]
  },
  {
   "cell_type": "code",
   "execution_count": 27,
   "id": "119cf1ff",
   "metadata": {},
   "outputs": [
    {
     "name": "stdout",
     "output_type": "stream",
     "text": [
      "Password\tZiggy2345\n",
      "invalid password\n"
     ]
    }
   ],
   "source": [
    "password=input(\"Password\\t\")\n",
    "m=re.fullmatch(r'[a-z A-Z]{4}[0-9]{2}\\W{2}',password)\n",
    "if m!=None:\n",
    "    print(\"valid password\")\n",
    "else:\n",
    "    print(\"invalid password\")"
   ]
  },
  {
   "cell_type": "code",
   "execution_count": null,
   "id": "8f7d9c5f",
   "metadata": {},
   "outputs": [],
   "source": []
  }
 ],
 "metadata": {
  "kernelspec": {
   "display_name": "Python 3 (ipykernel)",
   "language": "python",
   "name": "python3"
  },
  "language_info": {
   "codemirror_mode": {
    "name": "ipython",
    "version": 3
   },
   "file_extension": ".py",
   "mimetype": "text/x-python",
   "name": "python",
   "nbconvert_exporter": "python",
   "pygments_lexer": "ipython3",
   "version": "3.9.7"
  }
 },
 "nbformat": 4,
 "nbformat_minor": 5
}
