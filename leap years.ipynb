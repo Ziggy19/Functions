{
 "cells": [
  {
   "cell_type": "markdown",
   "id": "c17bb197",
   "metadata": {},
   "source": [
    "# Check year is leap year or not"
   ]
  },
  {
   "cell_type": "code",
   "execution_count": 6,
   "id": "8ffab789",
   "metadata": {},
   "outputs": [
    {
     "name": "stdout",
     "output_type": "stream",
     "text": [
      "Enter year:\t2024\n",
      "2024 is leap year\n"
     ]
    }
   ],
   "source": [
    "def leap_year(year):\n",
    "    if (year%100!=0 or year%400==0) & (year%4==0):\n",
    "        print(f\"{year} is leap year\")\n",
    "    else:\n",
    "        print(f\"{year} is not leap year\")\n",
    "def main():\n",
    "    yr= int(input(\"Enter year:\\t\"))\n",
    "    leap_year(yr)\n",
    "main()    \n",
    "    "
   ]
  },
  {
   "cell_type": "code",
   "execution_count": 7,
   "id": "6a44d656",
   "metadata": {},
   "outputs": [
    {
     "name": "stdout",
     "output_type": "stream",
     "text": [
      "Enter year:\t2023\n",
      "2023 is not leap year\n"
     ]
    }
   ],
   "source": [
    "def leap_year(year):\n",
    "    if (year%100!=0 or year%400==0) & (year%4==0):\n",
    "        print(f\"{year} is leap year\")\n",
    "    else:\n",
    "        print(f\"{year} is not leap year\")\n",
    "def main():\n",
    "    yr= int(input(\"Enter year:\\t\"))\n",
    "    leap_year(yr)\n",
    "main() "
   ]
  },
  {
   "cell_type": "code",
   "execution_count": null,
   "id": "3332d463",
   "metadata": {},
   "outputs": [],
   "source": []
  }
 ],
 "metadata": {
  "kernelspec": {
   "display_name": "Python 3 (ipykernel)",
   "language": "python",
   "name": "python3"
  },
  "language_info": {
   "codemirror_mode": {
    "name": "ipython",
    "version": 3
   },
   "file_extension": ".py",
   "mimetype": "text/x-python",
   "name": "python",
   "nbconvert_exporter": "python",
   "pygments_lexer": "ipython3",
   "version": "3.9.7"
  }
 },
 "nbformat": 4,
 "nbformat_minor": 5
}
