{
 "cells": [
  {
   "cell_type": "markdown",
   "id": "962edb98",
   "metadata": {},
   "source": [
    "# Access Specifiers"
   ]
  },
  {
   "cell_type": "code",
   "execution_count": 15,
   "id": "9990e6aa",
   "metadata": {},
   "outputs": [
    {
     "name": "stdout",
     "output_type": "stream",
     "text": [
      "Addition: 12, Substract: 6, Multiply: 27, Division: 3.0\n"
     ]
    }
   ],
   "source": [
    "class calculator:\n",
    "    def __init__(self,n1,n2):\n",
    "        self.__num1=n1\n",
    "        self.__num2=n2\n",
    "    def add(self):\n",
    "        return self.__num1+self.__num2\n",
    "    def sub(self):\n",
    "        return self.__num1-self.__num2\n",
    "    def mul(self):\n",
    "        return self.__num1* self.__num2\n",
    "    def div(self):\n",
    "        return self.__num1/self.__num2\n",
    "def main():\n",
    "    cal=calculator(9,3)\n",
    "    r1=cal.add()\n",
    "    r2=cal.sub()\n",
    "    r3=cal.mul()\n",
    "    r4=cal.div()\n",
    "    print(f\"Addition: {r1}, Substract: {r2}, Multiply: {r3}, Division: {r4}\")\n",
    "main()    \n",
    "        "
   ]
  },
  {
   "cell_type": "code",
   "execution_count": null,
   "id": "6498295b",
   "metadata": {},
   "outputs": [],
   "source": []
  }
 ],
 "metadata": {
  "kernelspec": {
   "display_name": "Python 3 (ipykernel)",
   "language": "python",
   "name": "python3"
  },
  "language_info": {
   "codemirror_mode": {
    "name": "ipython",
    "version": 3
   },
   "file_extension": ".py",
   "mimetype": "text/x-python",
   "name": "python",
   "nbconvert_exporter": "python",
   "pygments_lexer": "ipython3",
   "version": "3.9.7"
  }
 },
 "nbformat": 4,
 "nbformat_minor": 5
}
