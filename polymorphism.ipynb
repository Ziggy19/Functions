{
 "cells": [
  {
   "cell_type": "markdown",
   "id": "67bcf931",
   "metadata": {},
   "source": [
    "# Polymorphism"
   ]
  },
  {
   "cell_type": "code",
   "execution_count": 4,
   "id": "87ed6fc3",
   "metadata": {},
   "outputs": [
    {
     "name": "stdout",
     "output_type": "stream",
     "text": [
      "Country:- India\n",
      "Capital:-   New Delhi is the capital of India.\n",
      "Language:-    Hindi,English\n",
      "India is a developing country. its culture is very famouse\n",
      "\n",
      "\n",
      "Country:- USA \n",
      "Washington, D.C. is the capital of USA.\n",
      "Language:-   English\n",
      "USA is a developed country.\n",
      "\n",
      "\n"
     ]
    }
   ],
   "source": [
    "class India():\n",
    "    def capital(self):\n",
    "        print(\"Country:- India\\nCapital:-   New Delhi is the capital of India.\")\n",
    "\n",
    "    def language(self):\n",
    "        print(\"Language:-    Hindi,English\")\n",
    "\n",
    "    def type(self):\n",
    "        print(\"India is a developing country. its culture is very famouse\")\n",
    "\n",
    "class UnitedStateAmerica():\n",
    "    def capital(self):\n",
    "        print(\"Country:- USA \\nWashington, D.C. is the capital of USA.\")\n",
    "\n",
    "    def language(self):\n",
    "        print(\"Language:-   English\")\n",
    "\n",
    "    def type(self):\n",
    "        print(\"USA is a developed country.\")\n",
    "def main():\n",
    "    obj_ind = India()\n",
    "    obj_usa = UnitedStateAmerica()\n",
    "    for country in (obj_ind, obj_usa):\n",
    "        a=country.capital()\n",
    "        b=country.language()\n",
    "        c=country.type()\n",
    "        print(\"\\n\")   \n",
    "        \n",
    "main()"
   ]
  },
  {
   "cell_type": "code",
   "execution_count": null,
   "id": "1546da47",
   "metadata": {},
   "outputs": [],
   "source": []
  }
 ],
 "metadata": {
  "kernelspec": {
   "display_name": "Python 3 (ipykernel)",
   "language": "python",
   "name": "python3"
  },
  "language_info": {
   "codemirror_mode": {
    "name": "ipython",
    "version": 3
   },
   "file_extension": ".py",
   "mimetype": "text/x-python",
   "name": "python",
   "nbconvert_exporter": "python",
   "pygments_lexer": "ipython3",
   "version": "3.9.7"
  }
 },
 "nbformat": 4,
 "nbformat_minor": 5
}
